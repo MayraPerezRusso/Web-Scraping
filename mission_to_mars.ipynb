{
 "cells": [
  {
   "cell_type": "code",
   "execution_count": 65,
   "metadata": {},
   "outputs": [],
   "source": [
    "from bs4 import BeautifulSoup\n",
    "import requests\n",
    "import pymongo\n",
    "\n",
    "# conn = 'mongodb://localhost:27017'\n",
    "# client = pymongo.MongoClient(conn)\n",
    "\n",
    "# db = client.missionmars_db\n",
    "# collection = db.items\n",
    "\n",
    "url1 = 'https://mars.nasa.gov/news/'"
   ]
  },
  {
   "cell_type": "code",
   "execution_count": 63,
   "metadata": {},
   "outputs": [],
   "source": [
    "from splinter import Browser\n",
    "executable_path = {'executable_path': 'chromedriver.exe'}\n",
    "browser = Browser('chrome', **executable_path, headless=False)\n",
    "\n",
    "browser.visit(url1)\n",
    "html=browser.html\n",
    "soup = BeautifulSoup(html, 'html.parser')\n",
    "results = soup.find_all('div', class_='content_title')\n",
    "results2 = soup.find_all(class_='rollover_description_inner')\n",
    "news_title=results[0].text\n",
    "news_p=results2[0].text"
   ]
  },
  {
   "cell_type": "code",
   "execution_count": 19,
   "metadata": {},
   "outputs": [],
   "source": [
    "url2='https://www.jpl.nasa.gov/spaceimages/?search=&category=Mars'\n",
    "browser.visit(url2)\n",
    "browser.click_link_by_partial_text('FULL IMAGE')\n",
    "html = browser.html\n",
    "soup = BeautifulSoup(html, 'html.parser')"
   ]
  },
  {
   "cell_type": "code",
   "execution_count": 20,
   "metadata": {},
   "outputs": [],
   "source": [
    "x=soup.find_all(\"a\", class_='fancybox')\n",
    "featured_image_url1=[]\n",
    "for i in x:\n",
    "    featured_image_url1.append(i['data-fancybox-href'])\n",
    "featured_image_url='https://www.jpl.nasa.gov'+featured_image_url1[1]"
   ]
  },
  {
   "cell_type": "code",
   "execution_count": 21,
   "metadata": {},
   "outputs": [],
   "source": [
    "url3='https://twitter.com/marswxreport?lang=en'\n",
    "response = requests.get(url3)\n",
    "soup = BeautifulSoup(response.text, 'lxml')\n",
    "mars_weather1 = soup.find_all('p', class_='TweetTextSize TweetTextSize--normal js-tweet-text tweet-text')\n",
    "mars_weather_last=mars_weather1[2].text.strip()\n",
    "mars_weather_last=mars_weather_last.replace(\"\\n\",\". \")\n",
    "mars_weather=mars_weather_last[:mars_weather_last.rfind(\"pic\")]"
   ]
  },
  {
   "cell_type": "code",
   "execution_count": 22,
   "metadata": {},
   "outputs": [],
   "source": [
    "url3='https://space-facts.com/mars/'\n",
    "response = requests.get(url3)\n",
    "soup = BeautifulSoup(response.text, 'lxml')\n",
    "title_fact=soup.find_all('td',class_='column-1')\n",
    "fact=soup.find_all('td',class_='column-2')\n",
    "\n",
    "import pandas as pd\n",
    "\n",
    "title=[]\n",
    "value=[]\n",
    "for item in range(len(title_fact)-1):\n",
    "    title.append(title_fact[item].strong.text.strip())\n",
    "    value.append(fact[item].text.strip())\n",
    "\n",
    "table_fact=pd.DataFrame({'title':title,\n",
    "                         'value':value})\n",
    "\n",
    "table_fact=table_fact.to_html(classes='table_fact.html')"
   ]
  },
  {
   "cell_type": "code",
   "execution_count": 23,
   "metadata": {},
   "outputs": [],
   "source": [
    "browser2 = Browser('chrome', **executable_path, headless=False)"
   ]
  },
  {
   "cell_type": "code",
   "execution_count": 24,
   "metadata": {},
   "outputs": [],
   "source": [
    "url4='https://astrogeology.usgs.gov/search/results?q=hemisphere+enhanced&k1=target&v1=Mars'\n",
    "response = requests.get(url4)\n",
    "soup = BeautifulSoup(response.text, 'lxml')\n",
    "link=soup.find_all('a',class_='itemLink')\n",
    "list_link=[]\n",
    "for l in range(len(link)):\n",
    "    list_link.append('https://astrogeology.usgs.gov'+link[l]['href'])"
   ]
  },
  {
   "cell_type": "code",
   "execution_count": 40,
   "metadata": {},
   "outputs": [
    {
     "data": {
      "text/plain": [
       "{'title': ['Cerberus Hemisphere Enhanced',\n",
       "  'Schiaparelli Hemisphere Enhanced',\n",
       "  'Syrtis Major Hemisphere Enhanced',\n",
       "  'Valles Marineris Hemisphere Enhanced'],\n",
       " 'img_url': ['https://astrogeology.usgs.gov/cache/images/cfa62af2557222a02478f1fcd781d445_cerberus_enhanced.tif_full.jpg',\n",
       "  'https://astrogeology.usgs.gov/cache/images/3cdd1cbf5e0813bba925c9030d13b62e_schiaparelli_enhanced.tif_full.jpg',\n",
       "  'https://astrogeology.usgs.gov/cache/images/ae209b4e408bb6c3e67b6af38168cf28_syrtis_major_enhanced.tif_full.jpg',\n",
       "  'https://astrogeology.usgs.gov/cache/images/7cf2da4bf549ed01c17f206327be4db7_valles_marineris_enhanced.tif_full.jpg']}"
      ]
     },
     "execution_count": 40,
     "metadata": {},
     "output_type": "execute_result"
    }
   ],
   "source": [
    "name=[]\n",
    "link_img=[]\n",
    "\n",
    "executable_path = {'executable_path': 'chromedriver.exe'}\n",
    "browser2 = Browser('chrome', **executable_path, headless=False)\n",
    "\n",
    "for i in range(len(list_link)):\n",
    "    browser2.visit(list_link[i])\n",
    "    browser2.click_link_by_partial_text('Open')\n",
    "    html = browser2.html\n",
    "    soup = BeautifulSoup(html, 'html.parser')\n",
    "    img_link=soup.find_all('img', class_='wide-image')\n",
    "    name_img=soup.find_all('h2', class_='title')\n",
    "\n",
    "    name.append(name_img[0].text)\n",
    "    link_img.append('https://astrogeology.usgs.gov'+img_link[0]['src'])\n",
    "\n",
    "images={'title': name,\n",
    "        'img_url':link_img}\n",
    "images"
   ]
  },
  {
   "cell_type": "code",
   "execution_count": 42,
   "metadata": {},
   "outputs": [],
   "source": [
    "mars_data={'news_title':news_title,\n",
    "     'news_p':news_p,\n",
    "     'featured_image_url':featured_image_url,\n",
    "     'mars_weather':mars_weather,\n",
    "     'table_fact':table_fact,\n",
    "     'images':images}"
   ]
  },
  {
   "cell_type": "code",
   "execution_count": 47,
   "metadata": {},
   "outputs": [
    {
     "data": {
      "text/plain": [
       "'https://astrogeology.usgs.gov/cache/images/cfa62af2557222a02478f1fcd781d445_cerberus_enhanced.tif_full.jpg'"
      ]
     },
     "execution_count": 47,
     "metadata": {},
     "output_type": "execute_result"
    }
   ],
   "source": [
    "mars_data['images']['img_url'][0]"
   ]
  },
  {
   "cell_type": "code",
   "execution_count": null,
   "metadata": {},
   "outputs": [],
   "source": []
  }
 ],
 "metadata": {
  "kernelspec": {
   "display_name": "Python 3",
   "language": "python",
   "name": "python3"
  },
  "language_info": {
   "codemirror_mode": {
    "name": "ipython",
    "version": 3
   },
   "file_extension": ".py",
   "mimetype": "text/x-python",
   "name": "python",
   "nbconvert_exporter": "python",
   "pygments_lexer": "ipython3",
   "version": "3.7.1"
  }
 },
 "nbformat": 4,
 "nbformat_minor": 2
}
